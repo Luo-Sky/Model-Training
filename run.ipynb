{
 "cells": [
  {
   "cell_type": "code",
   "execution_count": null,
   "metadata": {
    "collapsed": true
   },
   "outputs": [],
   "source": [
    "# install dependence\n",
    "# 安装第三方库\n",
    "!pip install scikit-image > /dev/null\n",
    "!pip install matplotlib==3.4 > /dev/null\n",
    "# 安装PaddleRS\n",
    "!unzip -o -d /home/aistudio/ /home/aistudio/work/PaddleRS-addModels-develop.zip > /dev/null\n",
    "!mv /home/aistudio/PaddleRS-addModels-develop /home/aistudio/PaddleRS\n",
    "!pip install -e /home/aistudio/PaddleRS > /dev/null\n",
    "# 因为`sys.path`可能没有及时更新，这里选择手动更新\n",
    "import sys\n",
    "sys.path.append('/home/aistudio/PaddleRS')"
   ]
  },
  {
   "cell_type": "code",
   "execution_count": null,
   "metadata": {
    "collapsed": false,
    "pycharm": {
     "name": "#%%\n"
    }
   },
   "outputs": [],
   "source": [
    "# 解压数据集\n",
    "!unzip -o -d /home/aistudio/data/data134796/dataset /home/aistudio/data/data134796/train_data.zip > /dev/null\n",
    "!unzip -o -d /home/aistudio/data/data134796/dataset /home/aistudio/data/data134796/test_data.zip > /dev/null"
   ]
  },
  {
   "cell_type": "code",
   "execution_count": null,
   "metadata": {
    "collapsed": false,
    "pycharm": {
     "name": "#%%\n"
    }
   },
   "outputs": [],
   "source": [
    "# 创建txt文件\n",
    "!python dataloader/make_lst_file.py"
   ]
  },
  {
   "cell_type": "code",
   "execution_count": null,
   "metadata": {
    "collapsed": false,
    "pycharm": {
     "name": "#%%\n"
    }
   },
   "outputs": [],
   "source": [
    "# run the train\n",
    "!python train.py \\\n",
    "--config ./experiment/config.yml"
   ]
  },
  {
   "cell_type": "code",
   "execution_count": null,
   "metadata": {
    "collapsed": false,
    "pycharm": {
     "name": "#%%\n"
    }
   },
   "outputs": [],
   "source": [
    "!python test.py \\\n",
    "--config ./experiment/config.yml"
   ]
  }
 ],
 "metadata": {
  "kernelspec": {
   "display_name": "Python 3",
   "language": "python",
   "name": "python3"
  },
  "language_info": {
   "codemirror_mode": {
    "name": "ipython",
    "version": 2
   },
   "file_extension": ".py",
   "mimetype": "text/x-python",
   "name": "python",
   "nbconvert_exporter": "python",
   "pygments_lexer": "ipython2",
   "version": "2.7.6"
  }
 },
 "nbformat": 4,
 "nbformat_minor": 0
}